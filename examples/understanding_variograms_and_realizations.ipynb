{
 "cells": [
  {
   "cell_type": "markdown",
   "id": "90d365d6-ad4e-4109-954c-4b1cb46f733d",
   "metadata": {},
   "source": [
    "# A very simple demo to explain how the variogram effects stochastic realizations\n",
    "\n",
    "In this simple notebook, we exploit the speed of `PyPestUtils` to help build understanding of how the variogram parameters effect the resulting stochastic field"
   ]
  },
  {
   "cell_type": "code",
   "execution_count": null,
   "id": "78a88aba-80be-48d1-b2eb-48bd6d67551f",
   "metadata": {},
   "outputs": [],
   "source": [
    "import os\n",
    "import sys\n",
    "import numpy as np\n",
    "import pandas as pd\n",
    "import matplotlib.pyplot as plt\n",
    "from ipywidgets import interact\n",
    "sys.path.append(\"..\")\n",
    "from pypestutils.pestutilslib import PestUtilsLib\n",
    "lib = PestUtilsLib(logger_level=0)"
   ]
  },
  {
   "cell_type": "markdown",
   "id": "da9d0eee-ebfe-44f8-b230-e2df7ac8fc1e",
   "metadata": {},
   "source": [
    "Just some definitions.  We will use a 100 X 100 grid of nodes with  delx/dely (and an area) of 1."
   ]
  },
  {
   "cell_type": "code",
   "execution_count": null,
   "id": "0a7ec106-37ef-42f2-a9d9-5d0cea29080b",
   "metadata": {},
   "outputs": [],
   "source": [
    "nrow = ncol = 100\n",
    "x = np.cumsum(np.ones((nrow,ncol)),axis=1)\n",
    "y = np.cumsum(np.ones((nrow,ncol)),axis=0)\n",
    "area = 1\n",
    "active = 1\n",
    "mean = 1 #log10 HK mean\n",
    "var = 0.1 #log10 HK variance\n",
    "ec = x.flatten()\n",
    "nc = y.flatten()\n",
    "transtype = 0 #not log transformed\n",
    "vtype = 1 #exponential variogram\n",
    "power = 0\n",
    "nreal = 1"
   ]
  },
  {
   "cell_type": "markdown",
   "id": "d2dca882-8b41-4827-b27f-87c5138a0608",
   "metadata": {},
   "source": [
    "This is the function that will generate one realization and plot it for us, given a correlation length (`aa`), an anisotropy ratio (`anis`), and a `bearing`) "
   ]
  },
  {
   "cell_type": "code",
   "execution_count": null,
   "id": "615acaee-212d-4a08-b3ef-1c690b795307",
   "metadata": {},
   "outputs": [],
   "source": [
    "\n",
    "def plot_real(corrlen,anisotropy,bearing):\n",
    "    fig, axes = plt.subplots(1,1,figsize=(7,6))\n",
    "    #axes.clear()\n",
    "    #reset the random seed so that the underlying pseudo random numbers dont change\n",
    "    lib.initialize_randgen(1123455)\n",
    "    # generate one realization\n",
    "    arrs = lib.fieldgen2d_sva(ec,nc,area,int(active),mean,var,corrlen,anisotropy,bearing,transtype,vtype,power,nreal)\n",
    "    # plot\n",
    "    \n",
    "    cb = axes.imshow(arrs[:,0].reshape((nrow,ncol)),vmin=0.0,vmax=2,cmap=\"magma\")\n",
    "    #$plt.colorbar(cb,ax=axes,label=\"$log_{10}$ HK\")\n",
    "    axes.set_xlabel(\"column\")\n",
    "    axes.set_ylabel(\"row\")\n",
    "    axes.set_title(\"a random realization of HK\",loc=\"left\")\n",
    "    plt.show()\n",
    "                   \n",
    "        "
   ]
  },
  {
   "cell_type": "markdown",
   "id": "cb1483d1-e062-4567-bd85-715e20f382f9",
   "metadata": {},
   "source": [
    "Move these slowly so it doesnt flicker...\n",
    "\n",
    " - corrlen = the correlation length of the variogram\n",
    " - anisotropy = the anisotropy ratio of the primary to second axes of the anisotropy ellipse\n",
    " - bearing = the angle from north of the primary axis of the anisotropy ellipse"
   ]
  },
  {
   "cell_type": "code",
   "execution_count": null,
   "id": "ffdee08f-9202-42e0-b503-fc135c099337",
   "metadata": {},
   "outputs": [],
   "source": [
    "_ = interact(plot_real,corrlen=(1,50,1),anisotropy=(1,10,0.5),bearing=(0,90,1))"
   ]
  },
  {
   "cell_type": "code",
   "execution_count": null,
   "id": "dfb9eade-f0b0-43ac-9213-6978f95d0e72",
   "metadata": {},
   "outputs": [],
   "source": [
    "\n",
    "\n",
    "\n",
    "\n",
    "\n",
    "\n",
    "\n",
    "\n",
    "\n",
    "\n",
    "\n",
    "\n",
    "\n",
    "\n",
    "\n",
    "\n",
    "\n",
    "\n",
    "\n",
    "\n",
    "\n",
    "\n",
    "\n",
    "\n",
    "\n",
    "\n",
    "\n",
    "\n",
    "\n",
    "\n",
    "\n",
    "\n",
    "\n",
    "\n",
    "\n",
    "\n",
    "\n",
    "\n",
    "\n",
    "\n",
    "\n",
    "\n",
    "\n",
    "\n",
    "\n",
    "\n",
    "\n",
    "\n"
   ]
  }
 ],
 "metadata": {
  "language_info": {
   "name": "python"
  }
 },
 "nbformat": 4,
 "nbformat_minor": 5
}
